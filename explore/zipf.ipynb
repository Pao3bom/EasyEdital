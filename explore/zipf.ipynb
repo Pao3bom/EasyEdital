{
 "cells": [
  {
   "cell_type": "code",
   "execution_count": null,
   "metadata": {},
   "outputs": [],
   "source": [
    "import os\n",
    "import csv\n",
    "from matplotlib import pyplot as plt"
   ]
  },
  {
   "cell_type": "code",
   "execution_count": null,
   "metadata": {},
   "outputs": [],
   "source": [
    "!rm -rf ../pre/zipf/*"
   ]
  },
  {
   "cell_type": "code",
   "execution_count": null,
   "metadata": {},
   "outputs": [],
   "source": [
    "directory = \"../pre/zipf\"\n",
    "\n",
    "os.makedirs(directory, exist_ok=True)"
   ]
  },
  {
   "cell_type": "code",
   "execution_count": null,
   "metadata": {},
   "outputs": [],
   "source": [
    "filepath = \"../pre/global/counts.csv\"\n",
    "\n",
    "data = []\n",
    "with open(filepath) as f:\n",
    "    reader = csv.reader(f)\n",
    "    \n",
    "    # Skip the first line\n",
    "    next(reader)\n",
    "\n",
    "    data = [[row[0], int(row[1])] for row in reader if row[0] != '']"
   ]
  },
  {
   "cell_type": "code",
   "execution_count": null,
   "metadata": {},
   "outputs": [],
   "source": [
    "alpha = 1\n",
    "beta = 2.7\n",
    "\n",
    "word_count = sum([x[1] for x in data])\n",
    "\n",
    "# Plots the frequency\n",
    "plt.loglog([x[1] / word_count for x in data])\n",
    "# Plots an ideal curve \n",
    "plt.plot([x for x in range(0, len(data))], [1/pow(x + beta, alpha) for x in range(0, len(data))])\n",
    "plt.show()\n",
    "plt.savefig(f\"{directory}/zipf_log.png\")"
   ]
  },
  {
   "cell_type": "code",
   "execution_count": null,
   "metadata": {},
   "outputs": [],
   "source": [
    "plt.plot([x[1] / word_count for x in data])\n",
    "plt.show()"
   ]
  },
  {
   "cell_type": "code",
   "execution_count": null,
   "metadata": {},
   "outputs": [],
   "source": [
    "def luhn_cut(data, lower, upper):\n",
    "    lower_cut = len(data) * lower\n",
    "    upper_cut = len(data) * upper\n",
    "\n",
    "    return data[int(lower_cut):int(upper_cut)]\n",
    "\n",
    "def luhn_cut_explore(data, lower, upper, save=True):\n",
    "    data_cut = luhn_cut(data, lower, upper)\n",
    "\n",
    "    word_sum = sum([x[1] for x in data_cut])\n",
    "    frequency = word_sum / sum([x[1] for x in data])\n",
    "    word_percentage = len(data_cut) / len(data)\n",
    "\n",
    "    print(f\"Word percentage: {(word_percentage * 100):.2f}%\")\n",
    "    print(f\"Frequency: {(frequency * 100):.2f}%\")\n",
    "\n",
    "    plt.loglog([x[1] / word_sum for x in data_cut])\n",
    "    plt.title(f\"Lower: {lower}, Upper: {upper}, Word percentage: {(word_percentage * 100):.2f}%, Frequency: {(frequency * 100):.2f}%\")\n",
    "    plt.show()\n",
    "\n",
    "    if save:\n",
    "        plt.savefig(f\"{directory}/zipf_log_{lower}_{upper}.png\")\n",
    "\n",
    "    plt.plot([x[1] / word_sum for x in data_cut])\n",
    "    plt.title(f\"Lower: {lower}, Upper: {upper}, Word percentage: {(word_percentage * 100):.2f}%, Frequency: {(frequency * 100):.2f}%\")\n",
    "    plt.show()\n",
    "\n",
    "    if save:\n",
    "        plt.savefig(f\"{directory}/zipf_linear_{lower}_{upper}.png\")\n"
   ]
  },
  {
   "cell_type": "markdown",
   "metadata": {},
   "source": [
    "## Balanced cuts"
   ]
  },
  {
   "cell_type": "markdown",
   "metadata": {},
   "source": [
    "### 1%"
   ]
  },
  {
   "cell_type": "code",
   "execution_count": null,
   "metadata": {},
   "outputs": [],
   "source": [
    "luhn_cut_explore(data, 0.01, 0.99)"
   ]
  },
  {
   "cell_type": "markdown",
   "metadata": {},
   "source": [
    "### 5%"
   ]
  },
  {
   "cell_type": "code",
   "execution_count": null,
   "metadata": {},
   "outputs": [],
   "source": [
    "luhn_cut_explore(data, 0.05, 0.95)"
   ]
  },
  {
   "cell_type": "markdown",
   "metadata": {},
   "source": [
    "### 10%"
   ]
  },
  {
   "cell_type": "code",
   "execution_count": null,
   "metadata": {},
   "outputs": [],
   "source": [
    "luhn_cut_explore(data, 0.1, 0.9)"
   ]
  },
  {
   "cell_type": "markdown",
   "metadata": {},
   "source": [
    "### 15%"
   ]
  },
  {
   "cell_type": "code",
   "execution_count": null,
   "metadata": {},
   "outputs": [],
   "source": [
    "luhn_cut_explore(data, 0.15, 0.85)"
   ]
  },
  {
   "cell_type": "markdown",
   "metadata": {},
   "source": [
    "### 20%"
   ]
  },
  {
   "cell_type": "code",
   "execution_count": null,
   "metadata": {},
   "outputs": [],
   "source": [
    "luhn_cut_explore(data, 0.2, 0.8)"
   ]
  },
  {
   "cell_type": "markdown",
   "metadata": {},
   "source": [
    "### 25%"
   ]
  },
  {
   "cell_type": "code",
   "execution_count": null,
   "metadata": {},
   "outputs": [],
   "source": [
    "luhn_cut_explore(data, 0.25, 0.75)"
   ]
  },
  {
   "cell_type": "markdown",
   "metadata": {},
   "source": [
    "## Unbalenced cuts"
   ]
  },
  {
   "cell_type": "markdown",
   "metadata": {},
   "source": [
    "### 1%-0%"
   ]
  },
  {
   "cell_type": "code",
   "execution_count": null,
   "metadata": {},
   "outputs": [],
   "source": [
    "luhn_cut_explore(data, 0.01, 1.0)"
   ]
  },
  {
   "cell_type": "markdown",
   "metadata": {},
   "source": [
    "### 0%-1%"
   ]
  },
  {
   "cell_type": "code",
   "execution_count": null,
   "metadata": {},
   "outputs": [],
   "source": [
    "luhn_cut_explore(data, 0.0, 0.99)"
   ]
  },
  {
   "cell_type": "markdown",
   "metadata": {},
   "source": [
    "### 1%-5%"
   ]
  },
  {
   "cell_type": "code",
   "execution_count": null,
   "metadata": {},
   "outputs": [],
   "source": [
    "luhn_cut_explore(data, 0.01, 0.95)"
   ]
  },
  {
   "cell_type": "markdown",
   "metadata": {},
   "source": [
    "### 5%-1%"
   ]
  },
  {
   "cell_type": "code",
   "execution_count": null,
   "metadata": {},
   "outputs": [],
   "source": [
    "luhn_cut_explore(data, 0.05, 0.99)"
   ]
  },
  {
   "cell_type": "markdown",
   "metadata": {},
   "source": [
    "### 5%-10%"
   ]
  },
  {
   "cell_type": "code",
   "execution_count": null,
   "metadata": {},
   "outputs": [],
   "source": [
    "luhn_cut_explore(data, 0.05, 0.9)"
   ]
  },
  {
   "cell_type": "markdown",
   "metadata": {},
   "source": [
    "### 10%-5%"
   ]
  },
  {
   "cell_type": "code",
   "execution_count": null,
   "metadata": {},
   "outputs": [],
   "source": [
    "luhn_cut_explore(data, 0.1, 0.95)"
   ]
  },
  {
   "cell_type": "markdown",
   "metadata": {},
   "source": [
    "### 10%-20%"
   ]
  },
  {
   "cell_type": "code",
   "execution_count": null,
   "metadata": {},
   "outputs": [],
   "source": [
    "luhn_cut_explore(data, 0.1, 0.8)"
   ]
  },
  {
   "cell_type": "markdown",
   "metadata": {},
   "source": [
    "## Extreme cuts"
   ]
  },
  {
   "cell_type": "markdown",
   "metadata": {},
   "source": [
    "### 1%-30%"
   ]
  },
  {
   "cell_type": "code",
   "execution_count": null,
   "metadata": {},
   "outputs": [],
   "source": [
    "luhn_cut_explore(data, 0.01, 0.7)"
   ]
  },
  {
   "cell_type": "markdown",
   "metadata": {},
   "source": [
    "### 5%-30%"
   ]
  },
  {
   "cell_type": "code",
   "execution_count": null,
   "metadata": {},
   "outputs": [],
   "source": [
    "luhn_cut_explore(data, 0.05, 0.7)"
   ]
  },
  {
   "cell_type": "markdown",
   "metadata": {},
   "source": [
    "### 10%-30%"
   ]
  },
  {
   "cell_type": "code",
   "execution_count": null,
   "metadata": {},
   "outputs": [],
   "source": [
    "luhn_cut_explore(data, 0.1, 0.7)"
   ]
  },
  {
   "cell_type": "markdown",
   "metadata": {},
   "source": [
    "### 1%-40%"
   ]
  },
  {
   "cell_type": "code",
   "execution_count": null,
   "metadata": {},
   "outputs": [],
   "source": [
    "luhn_cut_explore(data, 0.01, 0.6)"
   ]
  },
  {
   "cell_type": "markdown",
   "metadata": {},
   "source": [
    "### 5%-40%"
   ]
  },
  {
   "cell_type": "code",
   "execution_count": null,
   "metadata": {},
   "outputs": [],
   "source": [
    "luhn_cut_explore(data, 0.05, 0.6)"
   ]
  },
  {
   "cell_type": "markdown",
   "metadata": {},
   "source": [
    "### 10%-40%"
   ]
  },
  {
   "cell_type": "code",
   "execution_count": null,
   "metadata": {},
   "outputs": [],
   "source": [
    "luhn_cut_explore(data, 0.1, 0.6)"
   ]
  },
  {
   "cell_type": "markdown",
   "metadata": {},
   "source": [
    "### 1%-50%"
   ]
  },
  {
   "cell_type": "code",
   "execution_count": null,
   "metadata": {},
   "outputs": [],
   "source": [
    "luhn_cut_explore(data, 0.01, 0.5)"
   ]
  },
  {
   "cell_type": "markdown",
   "metadata": {},
   "source": [
    "### 5%-50%"
   ]
  },
  {
   "cell_type": "code",
   "execution_count": null,
   "metadata": {},
   "outputs": [],
   "source": [
    "luhn_cut_explore(data, 0.05, 0.5)"
   ]
  },
  {
   "cell_type": "markdown",
   "metadata": {},
   "source": [
    "### 10%-50%"
   ]
  },
  {
   "cell_type": "code",
   "execution_count": null,
   "metadata": {},
   "outputs": [],
   "source": [
    "luhn_cut_explore(data, 0.1, 0.5)"
   ]
  },
  {
   "cell_type": "markdown",
   "metadata": {},
   "source": [
    "## Apply cut"
   ]
  },
  {
   "cell_type": "code",
   "execution_count": null,
   "metadata": {},
   "outputs": [],
   "source": [
    "import re"
   ]
  },
  {
   "cell_type": "code",
   "execution_count": null,
   "metadata": {},
   "outputs": [],
   "source": [
    "def validate_word(word: str):\n",
    "    word = re.sub(r'[^\\w0-9]+', '', word, flags=re.UNICODE)\n",
    "\n",
    "    if len(word) == 0 or word.isnumeric():\n",
    "        return False\n",
    "    else:\n",
    "        return True\n",
    "    \n",
    "def cut_data(data, lower, upper):\n",
    "    data_cut = luhn_cut(data, lower, upper)\n",
    "    keywords = [x[0] for x in data_cut if validate_word(x[0])]\n",
    "    stopwords = set([x[0] for x in data]) - set(keywords)\n",
    "\n",
    "    print(\"Stopwords:\", len(stopwords))\n",
    "    print(\"Keywords\", len(keywords))\n",
    "\n",
    "    with open(f\"{directory}/keywords-{lower:.2f}-{upper:.2f}.csv\", \"w\") as f:\n",
    "        for word in keywords:\n",
    "            f.write(f\"{word}\\n\")\n",
    "\n",
    "    with open(f\"{directory}/stopwords-{lower:.2f}-{upper:.2f}.csv\", \"w\") as f:\n",
    "        for word in stopwords:\n",
    "            f.write(f\"{word}\\n\")"
   ]
  },
  {
   "cell_type": "code",
   "execution_count": null,
   "metadata": {},
   "outputs": [],
   "source": [
    "cut_data(data, 0.1, 0.5)"
   ]
  }
 ],
 "metadata": {
  "kernelspec": {
   "display_name": "Python 3",
   "language": "python",
   "name": "python3"
  },
  "language_info": {
   "codemirror_mode": {
    "name": "ipython",
    "version": 3
   },
   "file_extension": ".py",
   "mimetype": "text/x-python",
   "name": "python",
   "nbconvert_exporter": "python",
   "pygments_lexer": "ipython3",
   "version": "3.12.7"
  }
 },
 "nbformat": 4,
 "nbformat_minor": 2
}
