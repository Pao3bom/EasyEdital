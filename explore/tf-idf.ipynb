{
 "cells": [
  {
   "cell_type": "code",
   "execution_count": 1,
   "metadata": {},
   "outputs": [],
   "source": [
    "import os\n",
    "import csv\n",
    "from collections import defaultdict\n",
    "from tqdm import tqdm\n",
    "from math import log"
   ]
  },
  {
   "cell_type": "code",
   "execution_count": 2,
   "metadata": {},
   "outputs": [],
   "source": [
    "directory = \"../pre/tf-idf\""
   ]
  },
  {
   "cell_type": "code",
   "execution_count": 3,
   "metadata": {},
   "outputs": [],
   "source": [
    "!rm -rf {directory}/*"
   ]
  },
  {
   "cell_type": "code",
   "execution_count": 4,
   "metadata": {},
   "outputs": [],
   "source": [
    "os.makedirs(directory, exist_ok=True)"
   ]
  },
  {
   "cell_type": "code",
   "execution_count": 5,
   "metadata": {},
   "outputs": [],
   "source": [
    "keywords_filepath = \"../pre/zipf/keywords-0.01-0.50.csv\"\n",
    "\n",
    "keywords = []\n",
    "with open(keywords_filepath) as f:\n",
    "    reader = csv.reader(f)\n",
    "\n",
    "    keywords = [row[0] for row in reader]"
   ]
  },
  {
   "cell_type": "code",
   "execution_count": 6,
   "metadata": {},
   "outputs": [
    {
     "data": {
      "text/plain": [
       "['interpostos',\n",
       " 'esclarecimento',\n",
       " 'interceptação',\n",
       " 'mantendo',\n",
       " 'concedeu',\n",
       " 'apta',\n",
       " 'assevera',\n",
       " 'afastou',\n",
       " 'penso',\n",
       " 'versada']"
      ]
     },
     "execution_count": 6,
     "metadata": {},
     "output_type": "execute_result"
    }
   ],
   "source": [
    "keywords[0:10]"
   ]
  },
  {
   "cell_type": "code",
   "execution_count": 7,
   "metadata": {},
   "outputs": [],
   "source": [
    "counts_filepath = \"../pre/counts/\"\n",
    "counts_csvs = os.listdir(counts_filepath)\n",
    "\n",
    "def process_keyword_doc_frequency(keywords):\n",
    "    keyword_doc_frequency = defaultdict(int)\n",
    "\n",
    "    for counts_csv in tqdm(counts_csvs, total=len(counts_csvs), desc=\"Processing CSVs\"):\n",
    "\n",
    "        with open(counts_filepath + counts_csv) as f:\n",
    "            reader = csv.reader(f)\n",
    "\n",
    "            # Skip header\n",
    "            next(reader)\n",
    "\n",
    "            words = [row[0] for row in reader]\n",
    "\n",
    "            for keyword in keywords:\n",
    "                if keyword in words:\n",
    "                    keyword_doc_frequency[keyword] += 1\n",
    "\n",
    "    with open('../pre/global/keyword_doc_frequecy.csv', 'w') as f:\n",
    "        writer = csv.writer(f)\n",
    "\n",
    "        writer.writerow(['keyword', 'doc_frequency'])\n",
    "\n",
    "        for keyword, doc_frequency in keyword_doc_frequency.items():\n",
    "            writer.writerow([keyword, doc_frequency])\n",
    "\n",
    "    return keyword_doc_frequency"
   ]
  },
  {
   "cell_type": "code",
   "execution_count": 8,
   "metadata": {},
   "outputs": [],
   "source": [
    "keyword_doc_frequency = defaultdict(int)\n",
    "\n",
    "if os.path.exists('../pre/global/keyword_doc_frequecy.csv'):\n",
    "    with open('../pre/global/keyword_doc_frequecy.csv') as f:\n",
    "        reader = csv.reader(f)\n",
    "\n",
    "        # Skip header\n",
    "        next(reader)\n",
    "\n",
    "        for row in reader:\n",
    "            keyword_doc_frequency[row[0]] = int(row[1])\n",
    "else:\n",
    "    keyword_doc_frequency = process_keyword_doc_frequency(keywords)"
   ]
  },
  {
   "cell_type": "code",
   "execution_count": 9,
   "metadata": {},
   "outputs": [],
   "source": [
    "def idf(N, D):\n",
    "    return log((N + 1) / (D + 1))"
   ]
  },
  {
   "cell_type": "code",
   "execution_count": 10,
   "metadata": {},
   "outputs": [],
   "source": [
    "keyword_idf = defaultdict(float)\n",
    "\n",
    "for keyword in keywords:\n",
    "    keyword_idf[keyword] = idf(len(counts_csvs), keyword_doc_frequency[keyword])"
   ]
  },
  {
   "cell_type": "code",
   "execution_count": 11,
   "metadata": {},
   "outputs": [],
   "source": [
    "with open(directory + '/keyword_idf.csv', 'w') as f:\n",
    "    writer = csv.writer(f)\n",
    "\n",
    "    writer.writerow(['keyword', 'idf'])\n",
    "\n",
    "    for keyword, value in keyword_idf.items():\n",
    "        writer.writerow([keyword, value])"
   ]
  },
  {
   "cell_type": "code",
   "execution_count": 12,
   "metadata": {},
   "outputs": [],
   "source": [
    "def tf_idf(frequency, N, D):\n",
    "    return frequency * idf(N, D)"
   ]
  },
  {
   "cell_type": "code",
   "execution_count": 13,
   "metadata": {},
   "outputs": [
    {
     "name": "stderr",
     "output_type": "stream",
     "text": [
      "Processing TD-IDF...:   0%|          | 0/10000 [00:00<?, ?it/s]"
     ]
    },
    {
     "name": "stderr",
     "output_type": "stream",
     "text": [
      "Processing TD-IDF...: 100%|██████████| 10000/10000 [56:56<00:00,  2.93it/s] \n"
     ]
    }
   ],
   "source": [
    "docs = []\n",
    "\n",
    "os.makedirs(directory + '/docs', exist_ok=True)\n",
    "\n",
    "for doc in tqdm(counts_csvs, total=len(counts_csvs), desc=\"Processing TD-IDF...\"):\n",
    "    doc_tdidf = defaultdict(float)\n",
    "\n",
    "    with open(counts_filepath + doc, 'r') as f:\n",
    "        reader = csv.reader(f)\n",
    "\n",
    "        # Skip header\n",
    "        next(reader)\n",
    "\n",
    "        word_frequency = [(row[0], int(row[1])) for row in reader]\n",
    "\n",
    "        for word, frequency in word_frequency:\n",
    "            if word in keywords:\n",
    "                doc_tdidf[word] += tf_idf(frequency, len(counts_csvs), keyword_doc_frequency[word])\n",
    "\n",
    "    with open(directory + f'/docs/tfidf-{doc}', 'w') as f:\n",
    "        writer = csv.writer(f)\n",
    "\n",
    "        writer.writerow(['word', 'weight'])\n",
    "\n",
    "        for word, weight in doc_tdidf.items():\n",
    "            writer.writerow([word, weight])"
   ]
  }
 ],
 "metadata": {
  "kernelspec": {
   "display_name": "Python 3",
   "language": "python",
   "name": "python3"
  },
  "language_info": {
   "codemirror_mode": {
    "name": "ipython",
    "version": 3
   },
   "file_extension": ".py",
   "mimetype": "text/x-python",
   "name": "python",
   "nbconvert_exporter": "python",
   "pygments_lexer": "ipython3",
   "version": "3.12.7"
  }
 },
 "nbformat": 4,
 "nbformat_minor": 2
}
