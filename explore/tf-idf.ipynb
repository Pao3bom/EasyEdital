{
 "cells": [
  {
   "cell_type": "code",
   "execution_count": 52,
   "metadata": {},
   "outputs": [],
   "source": [
    "import os\n",
    "import csv\n",
    "from collections import defaultdict\n",
    "from tqdm import tqdm\n",
    "from math import log"
   ]
  },
  {
   "cell_type": "code",
   "execution_count": 35,
   "metadata": {},
   "outputs": [],
   "source": [
    "directory = \"../pre/tf-idf\""
   ]
  },
  {
   "cell_type": "code",
   "execution_count": 36,
   "metadata": {},
   "outputs": [],
   "source": [
    "!rm -rf {directory}/*"
   ]
  },
  {
   "cell_type": "code",
   "execution_count": 37,
   "metadata": {},
   "outputs": [],
   "source": [
    "os.makedirs(directory, exist_ok=True)"
   ]
  },
  {
   "cell_type": "code",
   "execution_count": 38,
   "metadata": {},
   "outputs": [],
   "source": [
    "keywords_filepath = \"../pre/zipf/keywords-0.10-0.50.csv\"\n",
    "\n",
    "keywords = []\n",
    "with open(keywords_filepath) as f:\n",
    "    reader = csv.reader(f)\n",
    "\n",
    "    keywords = [row[0] for row in reader]"
   ]
  },
  {
   "cell_type": "code",
   "execution_count": 39,
   "metadata": {},
   "outputs": [
    {
     "data": {
      "text/plain": [
       "['telefonema',\n",
       " 'populações',\n",
       " 'coloque',\n",
       " 'gte',\n",
       " 'suscitarem',\n",
       " 'contando-se',\n",
       " 'assentam',\n",
       " 'natan',\n",
       " 'convier',\n",
       " 'glênio']"
      ]
     },
     "execution_count": 39,
     "metadata": {},
     "output_type": "execute_result"
    }
   ],
   "source": [
    "keywords[0:10]"
   ]
  },
  {
   "cell_type": "code",
   "execution_count": 40,
   "metadata": {},
   "outputs": [
    {
     "name": "stderr",
     "output_type": "stream",
     "text": [
      "Processing CSVs: 100%|██████████| 10000/10000 [55:24<00:00,  3.01it/s] \n"
     ]
    }
   ],
   "source": [
    "counts_filepath = \"../pre/counts/\"\n",
    "\n",
    "counts_csvs = os.listdir(counts_filepath)\n",
    "\n",
    "keyword_doc_frequency = defaultdict(int)\n",
    "\n",
    "for counts_csv in tqdm(counts_csvs, total=len(counts_csvs), desc=\"Processing CSVs\"):\n",
    "    with open(counts_filepath + counts_csv) as f:\n",
    "        reader = csv.reader(f)\n",
    "\n",
    "        # Skip header\n",
    "        next(reader)\n",
    "\n",
    "        words = [row[0] for row in reader]\n",
    "\n",
    "        for keyword in keywords:\n",
    "            if keyword in words:\n",
    "                keyword_doc_frequency[keyword] += 1"
   ]
  },
  {
   "cell_type": "code",
   "execution_count": 43,
   "metadata": {},
   "outputs": [],
   "source": [
    "with open('../pre/global/keyword_doc_frequecy.csv', 'w') as f:\n",
    "    writer = csv.writer(f)\n",
    "\n",
    "    writer.writerow(['keyword', 'doc_frequency'])\n",
    "\n",
    "    for keyword, doc_frequency in keyword_doc_frequency.items():\n",
    "        writer.writerow([keyword, doc_frequency])"
   ]
  },
  {
   "cell_type": "code",
   "execution_count": 47,
   "metadata": {},
   "outputs": [
    {
     "name": "stderr",
     "output_type": "stream",
     "text": [
      "Processing keywords: 100%|██████████| 224466/224466 [02:08<00:00, 1745.12it/s]\n"
     ]
    }
   ],
   "source": [
    "word_count_filepath = '../pre/global/counts.csv'\n",
    "\n",
    "keyword_count = defaultdict(int)\n",
    "\n",
    "with open(word_count_filepath) as f:\n",
    "    reader = csv.reader(f)\n",
    "\n",
    "    qtd_lines = sum(1 for line in reader) - 1\n",
    "    f.seek(0)\n",
    "\n",
    "    # Skip header\n",
    "    next(reader)\n",
    "\n",
    "    for row in tqdm(reader, total=qtd_lines, desc=\"Processing keywords\"):\n",
    "        if row[0] in keywords:\n",
    "            keyword_count[row[0]] = int(row[1])"
   ]
  },
  {
   "cell_type": "code",
   "execution_count": 69,
   "metadata": {},
   "outputs": [],
   "source": [
    "def idf(N, D):\n",
    "    return log((N + 1) / (D + 1))"
   ]
  },
  {
   "cell_type": "code",
   "execution_count": 71,
   "metadata": {},
   "outputs": [],
   "source": [
    "keyword_idf = defaultdict(float)\n",
    "\n",
    "for keyword in keywords:\n",
    "    keyword_idf[keyword] = idf(len(counts_csvs), keyword_doc_frequency[keyword])"
   ]
  },
  {
   "cell_type": "code",
   "execution_count": 75,
   "metadata": {},
   "outputs": [],
   "source": [
    "with open('../pre/global/keyword_idf.csv', 'w') as f:\n",
    "    writer = csv.writer(f)\n",
    "\n",
    "    writer.writerow(['keyword', 'idf'])\n",
    "\n",
    "    for keyword, idf in keyword_idf.items():\n",
    "        writer.writerow([keyword, idf])"
   ]
  }
 ],
 "metadata": {
  "kernelspec": {
   "display_name": "Python 3",
   "language": "python",
   "name": "python3"
  },
  "language_info": {
   "codemirror_mode": {
    "name": "ipython",
    "version": 3
   },
   "file_extension": ".py",
   "mimetype": "text/x-python",
   "name": "python",
   "nbconvert_exporter": "python",
   "pygments_lexer": "ipython3",
   "version": "3.12.7"
  }
 },
 "nbformat": 4,
 "nbformat_minor": 2
}
