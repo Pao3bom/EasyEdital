{
 "cells": [
  {
   "cell_type": "code",
   "execution_count": null,
   "metadata": {},
   "outputs": [],
   "source": [
    "import os\n",
    "import csv\n",
    "from collections import defaultdict"
   ]
  },
  {
   "cell_type": "code",
   "execution_count": null,
   "metadata": {},
   "outputs": [],
   "source": [
    "directory = \"../pre/kbs\""
   ]
  },
  {
   "cell_type": "code",
   "execution_count": null,
   "metadata": {},
   "outputs": [],
   "source": [
    "!rm -rf ../pre/kbs/*"
   ]
  },
  {
   "cell_type": "code",
   "execution_count": null,
   "metadata": {},
   "outputs": [],
   "source": [
    "os.makedirs(directory, exist_ok=True)"
   ]
  },
  {
   "cell_type": "code",
   "execution_count": null,
   "metadata": {},
   "outputs": [],
   "source": [
    "docs = os.listdir('../pre/tf-idf/docs')\n",
    "\n",
    "docs_keywords = defaultdict(list)\n",
    "\n",
    "for doc in docs:\n",
    "    with open(f'../pre/tf-idf/docs/{doc}', 'r') as f:\n",
    "        reader = csv.reader(f)\n",
    "\n",
    "        # Skip header\n",
    "        next(reader)\n",
    "\n",
    "        for row in reader:\n",
    "            docs_keywords[doc].append((row[0], float(row[1])))"
   ]
  },
  {
   "cell_type": "code",
   "execution_count": null,
   "metadata": {},
   "outputs": [],
   "source": [
    "keywords = []\n",
    "\n",
    "with open('../pre/zipf/keywords-0.01-0.50.csv', 'r') as f:\n",
    "    reader = csv.reader(f)\n",
    "\n",
    "    keywords = [x[0] for x in reader]"
   ]
  },
  {
   "cell_type": "code",
   "execution_count": null,
   "metadata": {},
   "outputs": [],
   "source": [
    "search_input = \"A economia judicial do STF parece boa\""
   ]
  },
  {
   "cell_type": "code",
   "execution_count": null,
   "metadata": {},
   "outputs": [],
   "source": [
    "clean_input = [x for x in search_input.lower().split() if len(x) > 0]\n",
    "\n",
    "keywords_input = [x for x in clean_input if x in keywords]"
   ]
  },
  {
   "cell_type": "code",
   "execution_count": null,
   "metadata": {},
   "outputs": [],
   "source": [
    "clean_input"
   ]
  },
  {
   "cell_type": "code",
   "execution_count": null,
   "metadata": {},
   "outputs": [],
   "source": [
    "ranking = defaultdict(float)\n",
    "\n",
    "for doc in docs:\n",
    "    ranking[doc] = sum([x[1] for x in docs_keywords[doc] if x[0] in keywords_input])"
   ]
  },
  {
   "cell_type": "code",
   "execution_count": null,
   "metadata": {},
   "outputs": [],
   "source": [
    "result = sorted(ranking.items(), key=lambda x: x[1], reverse=True)[:10]\n",
    "result"
   ]
  }
 ],
 "metadata": {
  "kernelspec": {
   "display_name": "Python 3",
   "language": "python",
   "name": "python3"
  },
  "language_info": {
   "codemirror_mode": {
    "name": "ipython",
    "version": 3
   },
   "file_extension": ".py",
   "mimetype": "text/x-python",
   "name": "python",
   "nbconvert_exporter": "python",
   "pygments_lexer": "ipython3",
   "version": "3.12.7"
  }
 },
 "nbformat": 4,
 "nbformat_minor": 2
}
