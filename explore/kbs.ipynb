{
 "cells": [
  {
   "cell_type": "code",
   "execution_count": 57,
   "metadata": {},
   "outputs": [],
   "source": [
    "import os\n",
    "import csv\n",
    "from collections import defaultdict"
   ]
  },
  {
   "cell_type": "code",
   "execution_count": 58,
   "metadata": {},
   "outputs": [],
   "source": [
    "directory = \"../pre/kbs\""
   ]
  },
  {
   "cell_type": "code",
   "execution_count": 59,
   "metadata": {},
   "outputs": [],
   "source": [
    "!rm -rf ../pre/kbs/*"
   ]
  },
  {
   "cell_type": "code",
   "execution_count": 60,
   "metadata": {},
   "outputs": [],
   "source": [
    "os.makedirs(directory, exist_ok=True)"
   ]
  },
  {
   "cell_type": "code",
   "execution_count": 61,
   "metadata": {},
   "outputs": [],
   "source": [
    "docs = os.listdir('../pre/tf-idf/docs')\n",
    "\n",
    "docs_keywords = defaultdict(list)\n",
    "\n",
    "for doc in docs:\n",
    "    with open(f'../pre/tf-idf/docs/{doc}', 'r') as f:\n",
    "        reader = csv.reader(f)\n",
    "\n",
    "        # Skip header\n",
    "        next(reader)\n",
    "\n",
    "        for row in reader:\n",
    "            docs_keywords[doc].append((row[0], float(row[1])))"
   ]
  },
  {
   "cell_type": "code",
   "execution_count": 62,
   "metadata": {},
   "outputs": [],
   "source": [
    "keywords = []\n",
    "\n",
    "with open('../pre/zipf/keywords-0.01-0.50.csv', 'r') as f:\n",
    "    reader = csv.reader(f)\n",
    "\n",
    "    keywords = [x[0] for x in reader]"
   ]
  },
  {
   "cell_type": "code",
   "execution_count": 63,
   "metadata": {},
   "outputs": [],
   "source": [
    "search_input = \"A economia judicial do STF parece boa\""
   ]
  },
  {
   "cell_type": "code",
   "execution_count": 64,
   "metadata": {},
   "outputs": [],
   "source": [
    "clean_input = [x for x in search_input.lower().split() if len(x) > 0]\n",
    "\n",
    "keywords_input = [x for x in clean_input if x in keywords]"
   ]
  },
  {
   "cell_type": "code",
   "execution_count": 65,
   "metadata": {},
   "outputs": [
    {
     "data": {
      "text/plain": [
       "['a', 'economia', 'judicial', 'do', 'stf', 'parece', 'boa']"
      ]
     },
     "execution_count": 65,
     "metadata": {},
     "output_type": "execute_result"
    }
   ],
   "source": [
    "clean_input"
   ]
  },
  {
   "cell_type": "code",
   "execution_count": 66,
   "metadata": {},
   "outputs": [],
   "source": [
    "ranking = defaultdict(float)\n",
    "\n",
    "for doc in docs:\n",
    "    ranking[doc] = sum([x[1] for x in docs_keywords[doc] if x[0] in keywords_input])"
   ]
  },
  {
   "cell_type": "code",
   "execution_count": 67,
   "metadata": {},
   "outputs": [
    {
     "data": {
      "text/plain": [
       "[('tfidf-5394.csv', 128.94616513767124),\n",
       " ('tfidf-457.csv', 119.73572477069472),\n",
       " ('tfidf-597854.csv', 64.47308256883562),\n",
       " ('tfidf-43.csv', 55.2626422018591),\n",
       " ('tfidf-94620.csv', 55.2626422018591),\n",
       " ('tfidf-820651.csv', 46.05220183488258),\n",
       " ('tfidf-28168.csv', 36.84176146790607),\n",
       " ('tfidf-707424.csv', 36.84176146790607),\n",
       " ('tfidf-848826.csv', 36.84176146790607),\n",
       " ('tfidf-693456.csv', 36.84176146790607)]"
      ]
     },
     "execution_count": 67,
     "metadata": {},
     "output_type": "execute_result"
    }
   ],
   "source": [
    "result = sorted(ranking.items(), key=lambda x: x[1], reverse=True)[:10]\n",
    "result"
   ]
  }
 ],
 "metadata": {
  "kernelspec": {
   "display_name": "Python 3",
   "language": "python",
   "name": "python3"
  },
  "language_info": {
   "codemirror_mode": {
    "name": "ipython",
    "version": 3
   },
   "file_extension": ".py",
   "mimetype": "text/x-python",
   "name": "python",
   "nbconvert_exporter": "python",
   "pygments_lexer": "ipython3",
   "version": "3.12.7"
  }
 },
 "nbformat": 4,
 "nbformat_minor": 2
}
