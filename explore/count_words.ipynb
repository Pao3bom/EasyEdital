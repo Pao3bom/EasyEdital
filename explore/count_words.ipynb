{
 "cells": [
  {
   "cell_type": "code",
   "execution_count": 1,
   "metadata": {},
   "outputs": [],
   "source": [
    "import os\n",
    "import re"
   ]
  },
  {
   "cell_type": "code",
   "execution_count": 2,
   "metadata": {},
   "outputs": [],
   "source": [
    "TOTAL = False"
   ]
  },
  {
   "cell_type": "code",
   "execution_count": 3,
   "metadata": {},
   "outputs": [],
   "source": [
    "directory = \"../data\"\n",
    "\n",
    "if not TOTAL:\n",
    "    directory = \"../pre/sample\"\n",
    "\n",
    "data_list = os.listdir(directory)\n",
    "data_list = list(data_list)"
   ]
  },
  {
   "cell_type": "code",
   "execution_count": 11,
   "metadata": {},
   "outputs": [],
   "source": [
    "word_count = {}\n",
    "\n",
    "for file in data_list:\n",
    "    with open(f'{directory}/{file}', 'r') as f:\n",
    "        text = f.read()\n",
    "        text = text.lower()\n",
    "        text = re.sub('[^a-z0-9- ]+', '', text)\n",
    "\n",
    "        text = [x.strip() for x in text.split() if len(x) > 0]\n",
    "\n",
    "        for word in text:\n",
    "            if word in word_count:\n",
    "                word_count[word] += 1\n",
    "            else:\n",
    "                word_count[word] = 1"
   ]
  },
  {
   "cell_type": "code",
   "execution_count": 12,
   "metadata": {},
   "outputs": [
    {
     "name": "stdout",
     "output_type": "stream",
     "text": [
      "353750\n"
     ]
    }
   ],
   "source": [
    "print(len(word_count.keys()))"
   ]
  }
 ],
 "metadata": {
  "kernelspec": {
   "display_name": "Python 3",
   "language": "python",
   "name": "python3"
  },
  "language_info": {
   "codemirror_mode": {
    "name": "ipython",
    "version": 3
   },
   "file_extension": ".py",
   "mimetype": "text/x-python",
   "name": "python",
   "nbconvert_exporter": "python",
   "pygments_lexer": "ipython3",
   "version": "3.12.7"
  }
 },
 "nbformat": 4,
 "nbformat_minor": 2
}
