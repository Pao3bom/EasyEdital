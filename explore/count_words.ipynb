{
 "cells": [
  {
   "cell_type": "code",
   "execution_count": 1,
   "metadata": {},
   "outputs": [],
   "source": [
    "import os\n",
    "import shutil"
   ]
  },
  {
   "cell_type": "code",
   "execution_count": 4,
   "metadata": {},
   "outputs": [],
   "source": [
    "!rm -rf ../pre/count_words"
   ]
  },
  {
   "cell_type": "code",
   "execution_count": 5,
   "metadata": {},
   "outputs": [],
   "source": [
    "data_list = os.listdir(\"../data\")\n",
    "data_list = list(data_list)\n",
    "\n",
    "os.makedirs(f'../pre/', exist_ok=True)\n",
    "os.makedirs(f'../pre/count_words', exist_ok=True)\n",
    "for file in data_list:\n",
    "    shutil.copyfile(f'../data/{file}/txt/{file}.txt', f'../pre/count_words/{file}.txt')"
   ]
  },
  {
   "cell_type": "code",
   "execution_count": null,
   "metadata": {},
   "outputs": [],
   "source": [
    "!ls ../data/ | wc -w\n",
    "!ls ../pre/count_words | wc -w"
   ]
  },
  {
   "cell_type": "code",
   "execution_count": 8,
   "metadata": {},
   "outputs": [],
   "source": [
    "word_count = {}\n",
    "file_list = os.listdir(\"../pre/count_words\")\n",
    "\n",
    "for file in file_list:\n",
    "    with open(f'../pre/count_words/{file}', 'r') as f:\n",
    "        text = f.read()\n",
    "        for word in text.split():\n",
    "            if word in word_count:\n",
    "                word_count[word] += 1\n",
    "            else:\n",
    "                word_count[word] = 1"
   ]
  },
  {
   "cell_type": "code",
   "execution_count": null,
   "metadata": {},
   "outputs": [],
   "source": [
    "print(word_count['AI'])"
   ]
  }
 ],
 "metadata": {
  "kernelspec": {
   "display_name": "Python 3",
   "language": "python",
   "name": "python3"
  },
  "language_info": {
   "codemirror_mode": {
    "name": "ipython",
    "version": 3
   },
   "file_extension": ".py",
   "mimetype": "text/x-python",
   "name": "python",
   "nbconvert_exporter": "python",
   "pygments_lexer": "ipython3",
   "version": "3.12.7"
  }
 },
 "nbformat": 4,
 "nbformat_minor": 2
}
