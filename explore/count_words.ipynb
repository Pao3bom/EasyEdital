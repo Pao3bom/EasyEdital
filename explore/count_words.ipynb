{
 "cells": [
  {
   "cell_type": "code",
   "execution_count": 1,
   "metadata": {},
   "outputs": [],
   "source": [
    "import os\n",
    "import re\n",
    "from collections import defaultdict\n",
    "import pandas as pd"
   ]
  },
  {
   "cell_type": "code",
   "execution_count": 3,
   "metadata": {},
   "outputs": [],
   "source": [
    "TOTAL = True"
   ]
  },
  {
   "cell_type": "code",
   "execution_count": 4,
   "metadata": {},
   "outputs": [],
   "source": [
    "directory = \"../data\"\n",
    "\n",
    "if not TOTAL:\n",
    "    directory = \"../pre/sample\""
   ]
  },
  {
   "cell_type": "code",
   "execution_count": 8,
   "metadata": {},
   "outputs": [],
   "source": [
    "!rm -fr ../pre/counts/*"
   ]
  },
  {
   "cell_type": "code",
   "execution_count": 5,
   "metadata": {},
   "outputs": [],
   "source": [
    "def format_text(text : str):\n",
    "    text = text.lower()\n",
    "    text = re.sub(r'\\n+', ' ', text)\n",
    "    text = re.sub(r'[^\\w0-9- ]+', '', text, flags=re.UNICODE)\n",
    "    \n",
    "    return text\n",
    "\n",
    "\n",
    "def count_words(file_name):\n",
    "    word_count = defaultdict(int)\n",
    "    \n",
    "    with open(file_name, 'r') as f:\n",
    "        text = f.read()\n",
    "        text = format_text(text)\n",
    "\n",
    "        text = [x for x in text.split() if len(x) > 0]\n",
    "\n",
    "        for word in text:\n",
    "            word_count[word] += 1\n",
    "        \n",
    "\n",
    "    return word_count\n",
    "\n",
    "\n",
    "def count_words_pd (file_name):\n",
    "    word_count_dict = count_words(file_name)\n",
    "\n",
    "    # Getting the count dataframe\n",
    "    word_count_df = pd.DataFrame(word_count_dict.items(), columns=['word', 'count'])\n",
    "    \n",
    "    # sorting by count\n",
    "    word_count_df.sort_values(by='count', ascending=False, inplace=True)\n",
    "    \n",
    "    return word_count_df\n",
    "\n",
    "\n",
    "def build_counts(directory):\n",
    "    directory = \"../pre/sample\"\n",
    "    \n",
    "    data_list = os.listdir(directory)\n",
    "    data_list = list(data_list)\n",
    "    \n",
    "    os.makedirs('../pre/counts', exist_ok=True)\n",
    "        \n",
    "    for file in data_list:\n",
    "        # Remove the extension using \n",
    "        filename = os.path.splitext(file)[0]\n",
    "        \n",
    "        # Count the words\n",
    "        count = count_words_pd(f'{directory}/{file}')\n",
    "            \n",
    "        # save as csv\n",
    "        count.to_csv(f'../pre/counts/{filename}.csv', index=False)\n",
    "    \n",
    "    \n",
    "def build_total_counts():\n",
    "    data_list = os.listdir('../pre/counts')\n",
    "    data_list = list(data_list)\n",
    "    \n",
    "    os.makedirs('../pre/global', exist_ok=True)\n",
    "    \n",
    "    glob_count = defaultdict(int)\n",
    "    \n",
    "    for file in data_list:\n",
    "        count = pd.read_csv(f'../pre/counts/{file}')\n",
    "        count_dict = dict(zip(count['word'], count['count']))\n",
    "        \n",
    "        for word, count in count_dict.items():\n",
    "            glob_count[word] += count\n",
    "        \n",
    "    glob_count = pd.DataFrame(glob_count.items(), columns=['word', 'count'])\n",
    "    glob_count.sort_values(by='count', ascending=False, inplace=True)\n",
    "    \n",
    "    glob_count.to_csv(f'../pre/global/counts.csv', index=False)"
   ]
  },
  {
   "cell_type": "code",
   "execution_count": 6,
   "metadata": {},
   "outputs": [],
   "source": [
    "build_counts(directory)"
   ]
  },
  {
   "cell_type": "code",
   "execution_count": 7,
   "metadata": {},
   "outputs": [],
   "source": [
    "build_total_counts()"
   ]
  }
 ],
 "metadata": {
  "kernelspec": {
   "display_name": "Python 3",
   "language": "python",
   "name": "python3"
  },
  "language_info": {
   "codemirror_mode": {
    "name": "ipython",
    "version": 3
   },
   "file_extension": ".py",
   "mimetype": "text/x-python",
   "name": "python",
   "nbconvert_exporter": "python",
   "pygments_lexer": "ipython3",
   "version": "3.12.7"
  }
 },
 "nbformat": 4,
 "nbformat_minor": 2
}
