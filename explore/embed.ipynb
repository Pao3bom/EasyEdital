{
 "cells": [
  {
   "cell_type": "code",
   "execution_count": null,
   "metadata": {},
   "outputs": [],
   "source": [
    "import os\n",
    "import re\n",
    "import nltk\n",
    "import pandas as pd\n",
    "import numpy as np\n",
    "import json\n",
    "nltk.download('stopwords')\n",
    "from nltk.corpus import stopwords\n",
    "from sentence_transformers import SentenceTransformer\n",
    "from sklearn.metrics.pairwise import cosine_similarity"
   ]
  },
  {
   "cell_type": "code",
   "execution_count": 2,
   "metadata": {},
   "outputs": [],
   "source": [
    "TOTAL = False\n",
    "\n",
    "directory = \"../data\"\n",
    "\n",
    "if not TOTAL:\n",
    "    directory = \"../pre/sample\"\n",
    "\n",
    "data_list = os.listdir(directory)\n",
    "data_list = list(data_list)"
   ]
  },
  {
   "cell_type": "code",
   "execution_count": 2,
   "metadata": {},
   "outputs": [],
   "source": [
    "model = SentenceTransformer('sentence-transformers/paraphrase-multilingual-MiniLM-L12-v2', device='cuda')"
   ]
  },
  {
   "cell_type": "code",
   "execution_count": 4,
   "metadata": {},
   "outputs": [],
   "source": [
    "doc_embeddings = {}\n",
    "stop_words = set(stopwords.words('portuguese'))\n",
    "for file in data_list:\n",
    "    with open(f'{directory}/{file}', 'r') as f:\n",
    "        text = f.read()\n",
    "        text = text.lower()\n",
    "        text = re.sub(r'[^\\w0-9- ]+', '', text, flags=re.UNICODE)\n",
    "        text = [x.strip() for x in text.split() if len(x) > 0 and x not in stop_words]\n",
    "        text = ' '.join(text)\n",
    "\n",
    "        doc_embeddings[file] = list(model.encode(text, device='cuda'))\n",
    "        #print(doc_embeddings[file].shape)"
   ]
  },
  {
   "cell_type": "code",
   "execution_count": 17,
   "metadata": {},
   "outputs": [],
   "source": [
    "with open(\"../pre/global/embed.json\", 'w') as f:\n",
    "\n",
    "    json.dump(doc_embeddings, f)"
   ]
  },
  {
   "cell_type": "code",
   "execution_count": null,
   "metadata": {},
   "outputs": [],
   "source": [
    "def get_similar_docs(document_file:str, embed_json_path:str=\"../pre/global/embed.json\", max_recs:int=5, min_sim:float=0.0):\n",
    "\n",
    "    with open(embed_json_path, 'r') as f:\n",
    "        embed_dict = json.load(f)\n",
    "\n",
    "    \"\"\" stop_words = set(stopwords.words('portuguese'))\n",
    "    with open(document_file, 'r') as f:\n",
    "        text = f.read()\n",
    "        text = text.lower()\n",
    "        text = re.sub(r'[^\\w0-9- ]+', '', text, flags=re.UNICODE)\n",
    "        text = [x.strip() for x in text.split() if len(x) > 0 and x not in stop_words]\n",
    "        text = ' '.join(text)\n",
    "\n",
    "        doc_embeds = np.array(model.encode(text, device='cuda')) \"\"\"\n",
    "    \n",
    "    ### Simplificando no momento\n",
    "    doc_embeds = np.array(embed_dict[document_file])\n",
    "    \n",
    "    results = []\n",
    "    for file in embed_dict.keys():\n",
    "        embed_value = np.array(embed_dict[file])\n",
    "        similarity = cosine_similarity(doc_embeds.reshape(1, -1), embed_value.reshape(1, -1))\n",
    "        results.append((file, similarity[0][0]))\n",
    "\n",
    "\n",
    "    ordered_results = sorted(results, reverse=True, key=lambda x:x[1])\n",
    "\n",
    "    return ordered_results[1: max_recs+1]"
   ]
  },
  {
   "cell_type": "code",
   "execution_count": null,
   "metadata": {},
   "outputs": [],
   "source": [
    "print(get_similar_docs('4.txt'))"
   ]
  }
 ],
 "metadata": {
  "kernelspec": {
   "display_name": "Python 3",
   "language": "python",
   "name": "python3"
  },
  "language_info": {
   "codemirror_mode": {
    "name": "ipython",
    "version": 3
   },
   "file_extension": ".py",
   "mimetype": "text/x-python",
   "name": "python",
   "nbconvert_exporter": "python",
   "pygments_lexer": "ipython3",
   "version": "3.12.7"
  }
 },
 "nbformat": 4,
 "nbformat_minor": 4
}
