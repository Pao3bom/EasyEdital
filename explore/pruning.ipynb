{
 "cells": [
  {
   "cell_type": "code",
   "execution_count": 1,
   "metadata": {},
   "outputs": [],
   "source": [
    "import os\n",
    "import csv"
   ]
  },
  {
   "cell_type": "code",
   "execution_count": 8,
   "metadata": {},
   "outputs": [
    {
     "name": "stdout",
     "output_type": "stream",
     "text": [
      "8160\n"
     ]
    }
   ],
   "source": [
    "data_list = os.listdir(\"../data\")\n",
    "data_list = sorted(list(data_list), key= lambda x: int(x.replace(\".txt\", \"\")))\n",
    "\n",
    "count = 0\n",
    "files_to_keep = []\n",
    "for file in data_list:\n",
    "    with open(f'../data/{file}') as f:\n",
    "        doc_str = f.read()\n",
    "        if len(doc_str) > 2500:\n",
    "            files_to_keep.append(file)\n",
    "        else:\n",
    "            count +=1\n",
    "\n",
    "print(count)"
   ]
  },
  {
   "cell_type": "code",
   "execution_count": 9,
   "metadata": {},
   "outputs": [],
   "source": [
    "with open('../pre/global/not_prune.csv', 'w') as f:\n",
    "    writer = csv.writer(f)\n",
    "    writer.writerow(files_to_keep)"
   ]
  }
 ],
 "metadata": {
  "kernelspec": {
   "display_name": "Python 3",
   "language": "python",
   "name": "python3"
  },
  "language_info": {
   "codemirror_mode": {
    "name": "ipython",
    "version": 3
   },
   "file_extension": ".py",
   "mimetype": "text/x-python",
   "name": "python",
   "nbconvert_exporter": "python",
   "pygments_lexer": "ipython3",
   "version": "3.12.7"
  }
 },
 "nbformat": 4,
 "nbformat_minor": 2
}
