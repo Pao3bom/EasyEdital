{
 "cells": [
  {
   "cell_type": "code",
   "execution_count": 1,
   "metadata": {},
   "outputs": [],
   "source": [
    "import os\n",
    "import random\n",
    "import shutil"
   ]
  },
  {
   "cell_type": "code",
   "execution_count": 5,
   "metadata": {},
   "outputs": [],
   "source": [
    "!mkdir -p ../pre"
   ]
  },
  {
   "cell_type": "code",
   "execution_count": 6,
   "metadata": {},
   "outputs": [],
   "source": [
    "### Rode apenas uma vez para transferir os dados para a pasta pre/\n",
    "\n",
    "data_list = os.listdir(\"../data\")\n",
    "data_list = list(data_list)\n",
    "\n",
    "random.seed(42)\n",
    "pre = random.sample(data_list, k=10000)\n",
    "\n",
    "os.mkdir(f'../pre/sample')\n",
    "for file in pre:\n",
    "    shutil.copyfile(f'../data/{file}/txt/{file}.txt', f'../pre/sample/{file}.txt')"
   ]
  }
 ],
 "metadata": {
  "kernelspec": {
   "display_name": "Python 3",
   "language": "python",
   "name": "python3"
  },
  "language_info": {
   "codemirror_mode": {
    "name": "ipython",
    "version": 3
   },
   "file_extension": ".py",
   "mimetype": "text/x-python",
   "name": "python",
   "nbconvert_exporter": "python",
   "pygments_lexer": "ipython3",
   "version": "3.12.7"
  }
 },
 "nbformat": 4,
 "nbformat_minor": 2
}
